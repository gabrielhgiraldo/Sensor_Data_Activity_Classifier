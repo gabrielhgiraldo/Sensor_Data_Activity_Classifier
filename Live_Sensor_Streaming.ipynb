{
 "cells": [
  {
   "cell_type": "code",
   "execution_count": 2,
   "metadata": {},
   "outputs": [],
   "source": [
    "import socket\n",
    "from struct import *\n",
    "import seaborn as sns\n",
    "sns.set()\n",
    "import matplotlib.pyplot as plt\n",
    "%matplotlib inline\n",
    "import time\n",
    "import numpy as np\n",
    "import pandas as pd\n",
    "import scipy.constants as spconst\n",
    "from sklearn.externals import joblib\n",
    "from IPython.display import clear_output"
   ]
  },
  {
   "cell_type": "code",
   "execution_count": 3,
   "metadata": {},
   "outputs": [],
   "source": [
    "def get_rotation_matrix(data):\n",
    "    #print(unpack_from('!f',data,36)[0])\n",
    "    orientation_z = np.radians(unpack_from('!f',data,36)[0])\n",
    "    c, s = np.cos(orientation_z), np.sin(orientation_z)\n",
    "    Rz = np.array(((c,-s,0),(s,c,0), (0,0,1)))\n",
    "    \n",
    "    orientation_x = np.radians(unpack_from('!f',data,40)[0])\n",
    "    c, s = np.cos(orientation_x), np.sin(orientation_x)\n",
    "    Rx = np.array(((1,0,0),(0,c,-s), (0,s,c)))\n",
    "    \n",
    "    orientation_y = np.radians(unpack_from('!f',data,44)[0])\n",
    "    c, s = np.cos(orientation_y), np.sin(orientation_y)\n",
    "    Ry = np.array(((c,0,s),(0,1,0),(-s,0,c)))\n",
    "    \n",
    "    #print(\"RX:\",Rx)\n",
    "    #print(\"Ry:\",Ry)\n",
    "    orientation = np.array([orientation_x,orientation_y,orientation_z])\n",
    "    #print(orientation)\n",
    "    return Rz.dot(Ry).dot(Rx)"
   ]
  },
  {
   "cell_type": "code",
   "execution_count": 4,
   "metadata": {},
   "outputs": [],
   "source": [
    "def get_accelerometer(data):\n",
    "    lin_acc_x = unpack_from('!f',data,0)\n",
    "    lin_acc_y = unpack_from('!f',data,4)\n",
    "    lin_acc_z = unpack_from('!f',data,8)\n",
    "    lin_acc = np.array([lin_acc_x,lin_acc_y,lin_acc_z])\n",
    "    \n",
    "    grav_x = unpack_from('!f',data,12)\n",
    "    grav_y = unpack_from('!f',data,16)\n",
    "    grav_z = unpack_from('!f',data,20)\n",
    "    grav = np.array([grav_x,grav_y,grav_z])\n",
    "    \n",
    "    acc = lin_acc + (grav * spconst.g)\n",
    "    return acc"
   ]
  },
  {
   "cell_type": "code",
   "execution_count": 5,
   "metadata": {},
   "outputs": [],
   "source": [
    "def get_transformed_accelerometer(data):\n",
    "    acc = get_accelerometer(data)\n",
    "    R = get_rotation_matrix(data)\n",
    "    #print(orientation)\n",
    "    return R.dot(acc)\n",
    "    #return acc"
   ]
  },
  {
   "cell_type": "code",
   "execution_count": 6,
   "metadata": {
    "scrolled": false
   },
   "outputs": [
    {
     "name": "stdout",
     "output_type": "stream",
     "text": [
      "['sit']\n"
     ]
    },
    {
     "ename": "KeyboardInterrupt",
     "evalue": "",
     "output_type": "error",
     "traceback": [
      "\u001b[0;31m---------------------------------------------------------------------------\u001b[0m",
      "\u001b[0;31mKeyboardInterrupt\u001b[0m                         Traceback (most recent call last)",
      "\u001b[0;32m<ipython-input-6-d153c638af05>\u001b[0m in \u001b[0;36m<module>\u001b[0;34m()\u001b[0m\n\u001b[1;32m     12\u001b[0m \u001b[0msensor_history\u001b[0m \u001b[0;34m=\u001b[0m \u001b[0mpd\u001b[0m\u001b[0;34m.\u001b[0m\u001b[0mDataFrame\u001b[0m\u001b[0;34m(\u001b[0m\u001b[0;34m)\u001b[0m\u001b[0;34m\u001b[0m\u001b[0m\n\u001b[1;32m     13\u001b[0m \u001b[0;32mwhile\u001b[0m \u001b[0;32mTrue\u001b[0m\u001b[0;34m:\u001b[0m\u001b[0;34m\u001b[0m\u001b[0m\n\u001b[0;32m---> 14\u001b[0;31m     \u001b[0mdata\u001b[0m\u001b[0;34m,\u001b[0m \u001b[0maddr\u001b[0m \u001b[0;34m=\u001b[0m \u001b[0msock\u001b[0m\u001b[0;34m.\u001b[0m\u001b[0mrecvfrom\u001b[0m\u001b[0;34m(\u001b[0m\u001b[0;36m1024\u001b[0m\u001b[0;34m)\u001b[0m \u001b[0;31m# buffer size is 1024 bytes\u001b[0m\u001b[0;34m\u001b[0m\u001b[0m\n\u001b[0m\u001b[1;32m     15\u001b[0m     \u001b[0macc\u001b[0m \u001b[0;34m=\u001b[0m \u001b[0mget_transformed_accelerometer\u001b[0m\u001b[0;34m(\u001b[0m\u001b[0mdata\u001b[0m\u001b[0;34m)\u001b[0m\u001b[0;34m\u001b[0m\u001b[0m\n\u001b[1;32m     16\u001b[0m     \u001b[0;31m#print(acc)\u001b[0m\u001b[0;34m\u001b[0m\u001b[0;34m\u001b[0m\u001b[0m\n",
      "\u001b[0;31mKeyboardInterrupt\u001b[0m: "
     ]
    }
   ],
   "source": [
    "#UDP_IP = \"96.49.100.238\"\n",
    "#UDP_IP = \"127.0.0.1\"\n",
    "UDP_IP = socket.gethostbyname(socket.gethostname())\n",
    "print (\"Receiver IP: \", UDP_IP)\n",
    "#UDP_PORT = 6000\n",
    "UDP_PORT = int(input (\"Enter Port \"))\n",
    "print (\"Port: \", UDP_PORT)\n",
    "sock = socket.socket(socket.AF_INET, # Internet\n",
    "                    socket.SOCK_DGRAM) # UDP\n",
    "sock.bind((UDP_IP, UDP_PORT))\n",
    "model = joblib.load('activity_classifier_acc.pkl')\n",
    "sensor_history = pd.DataFrame()\n",
    "while True:\n",
    "    data, addr = sock.recvfrom(1024) # buffer size is 1024 bytes\n",
    "    acc = get_transformed_accelerometer(data)\n",
    "    #print(acc)\n",
    "    #get std features\n",
    "    if len(sensor_history) == 0:\n",
    "        sensor_history = pd.DataFrame(acc.T, columns=['x','y','z'])\n",
    "    else:\n",
    "        sensor_history_new = pd.DataFrame(acc.T, columns=['x','y','z'])\n",
    "        sensor_history = sensor_history.append(sensor_history_new)\n",
    "        if len(sensor_history) == 35:\n",
    "            sensor_history_new['std_x'] = sensor_history['x'].std()\n",
    "            sensor_history_new['std_y'] = sensor_history['y'].std()\n",
    "            sensor_history_new['std_z'] = sensor_history['z'].std()\n",
    "#             sensor_history_new['mean_x'] = sensor_history['x'].mean()\n",
    "#             sensor_history_new['mean_y'] = sensor_history['y'].mean()\n",
    "#             sensor_history_new['mean_z'] = sensor_history['z'].mean()\n",
    "            clear_output(wait=True)\n",
    "           # print(\"pre transformation acc:\", get_accelerometer(data))\n",
    "            #print(\"post transformation acc:\",acc)\n",
    "            #print(sensor_history_new,\"\\n\", model.predict(sensor_history_new))\n",
    "            print(model.predict(sensor_history_new))\n",
    "            sensor_history = sensor_history.iloc[1:]\n",
    "        else:\n",
    "            clear_output(wait=True)\n",
    "            print(len(sensor_history))\n",
    "    "
   ]
  },
  {
   "cell_type": "code",
   "execution_count": null,
   "metadata": {},
   "outputs": [],
   "source": []
  },
  {
   "cell_type": "code",
   "execution_count": null,
   "metadata": {},
   "outputs": [],
   "source": []
  }
 ],
 "metadata": {
  "kernelspec": {
   "display_name": "Python 3",
   "language": "python",
   "name": "python3"
  },
  "language_info": {
   "codemirror_mode": {
    "name": "ipython",
    "version": 3
   },
   "file_extension": ".py",
   "mimetype": "text/x-python",
   "name": "python",
   "nbconvert_exporter": "python",
   "pygments_lexer": "ipython3",
   "version": "3.6.6"
  }
 },
 "nbformat": 4,
 "nbformat_minor": 2
}
